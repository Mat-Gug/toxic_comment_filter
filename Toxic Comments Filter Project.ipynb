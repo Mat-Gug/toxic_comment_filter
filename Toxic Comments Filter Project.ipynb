{
 "cells": [
  {
   "cell_type": "markdown",
   "id": "1f1eac10",
   "metadata": {
    "id": "1f1eac10"
   },
   "source": [
    "## Project: Toxic Comment Filter"
   ]
  },
  {
   "cell_type": "markdown",
   "id": "ds83aEEGEJah",
   "metadata": {
    "id": "ds83aEEGEJah"
   },
   "source": [
    "The present project aims to develop a Deep Learning multi-label classification model for filtering toxic comments within social network platforms.<br> To achieve this goal, the project is divided into several distinct steps:\n",
    "\n",
    "* **Data Exploration**;\n",
    "* **Data Pre-processing**; The collected data will undergo rigorous cleaning and preparation, including text tokenization and encoding, to make it suitable for model training.\n",
    "* **Model Building**: We will develop a Deep Learning architecture capable of multi-label classification, leveraging state-of-the-art natural language processing techniques;\n",
    "* **Conclusions**: The project will culminate in drawing conclusions from our model's performance, showcasing its ability to detect and filter toxic comments effectively."
   ]
  },
  {
   "cell_type": "markdown",
   "id": "3504d2cc",
   "metadata": {
    "id": "3504d2cc"
   },
   "source": [
    "Costruire un modello in grado di filtrare i commenti degli utenti in base al grado di dannosità del linguaggio:\n",
    "1. Preprocessare il testo eliminando l'insieme di token che non danno contributo significativo a livello semantico\n",
    "2. Trasformare il corpus testuale in sequenze\n",
    "3. Costruire un modello di Deep Learning comprendente dei layer ricorrenti per un task di classificazione multilabel\n",
    "4. In prediction time, il modello deve ritornare un vettore contenente un 1 o uno 0 in corrispondenza di ogni label presente nel dataset (toxic,\tsevere_toxic,\tobscene,\tthreat,\tinsult,\tidentity_hate). In questo modo, un commento non dannoso sarà classificato da un vettore di soli 0 [0,0,0,0,0,0]. Al contrario, un commento pericoloso presenterà almeno un 1 tra le 6 labels."
   ]
  },
  {
   "cell_type": "markdown",
   "id": "QaWOZprmj2V2",
   "metadata": {
    "id": "QaWOZprmj2V2"
   },
   "source": [
    "Difference between multi-class classification & multi-label classification is that in multi-class problems the classes are mutually exclusive, whereas for multi-label problems each label represents a different classification task, but the tasks are somehow related."
   ]
  },
  {
   "cell_type": "markdown",
   "id": "BnKAqOsPkL4D",
   "metadata": {
    "id": "BnKAqOsPkL4D"
   },
   "source": [
    "Toxic comment classification is a multi-label text classification problem with a highly imbalanced dataset."
   ]
  },
  {
   "cell_type": "markdown",
   "id": "4qPYWHVedgvV",
   "metadata": {
    "id": "4qPYWHVedgvV"
   },
   "source": [
    "## 1. Data Exploration"
   ]
  },
  {
   "cell_type": "markdown",
   "id": "SE6zjqZ-GRKF",
   "metadata": {
    "id": "SE6zjqZ-GRKF"
   },
   "source": [
    "Let's begin by importing the dataset:"
   ]
  },
  {
   "cell_type": "code",
   "execution_count": 43,
   "id": "c2f2fb60",
   "metadata": {
    "colab": {
     "base_uri": "https://localhost:8080/"
    },
    "executionInfo": {
     "elapsed": 4312,
     "status": "ok",
     "timestamp": 1695221583534,
     "user": {
      "displayName": "Mattia Guglielmelli",
      "userId": "09921338730969322425"
     },
     "user_tz": -120
    },
    "id": "c2f2fb60",
    "outputId": "6d05e138-3d7a-41f7-e17e-aed5f8d39585"
   },
   "outputs": [
    {
     "data": {
      "text/plain": [
       "(159571, 8)"
      ]
     },
     "execution_count": 43,
     "metadata": {},
     "output_type": "execute_result"
    }
   ],
   "source": [
    "import pandas as pd\n",
    "\n",
    "BASE_URL = \"https://s3.eu-west-3.amazonaws.com/profession.ai/datasets/\"\n",
    "df = pd.read_csv(BASE_URL+\"Filter_Toxic_Comments_dataset.csv\")\n",
    "df.shape"
   ]
  },
  {
   "cell_type": "code",
   "execution_count": 44,
   "id": "66c3d701",
   "metadata": {
    "colab": {
     "base_uri": "https://localhost:8080/",
     "height": 206
    },
    "executionInfo": {
     "elapsed": 28,
     "status": "ok",
     "timestamp": 1695221583536,
     "user": {
      "displayName": "Mattia Guglielmelli",
      "userId": "09921338730969322425"
     },
     "user_tz": -120
    },
    "id": "66c3d701",
    "outputId": "072492a0-3999-4272-ce54-d0aa75c67353"
   },
   "outputs": [
    {
     "data": {
      "text/html": [
       "<div>\n",
       "<style scoped>\n",
       "    .dataframe tbody tr th:only-of-type {\n",
       "        vertical-align: middle;\n",
       "    }\n",
       "\n",
       "    .dataframe tbody tr th {\n",
       "        vertical-align: top;\n",
       "    }\n",
       "\n",
       "    .dataframe thead th {\n",
       "        text-align: right;\n",
       "    }\n",
       "</style>\n",
       "<table border=\"1\" class=\"dataframe\">\n",
       "  <thead>\n",
       "    <tr style=\"text-align: right;\">\n",
       "      <th></th>\n",
       "      <th>comment_text</th>\n",
       "      <th>toxic</th>\n",
       "      <th>severe_toxic</th>\n",
       "      <th>obscene</th>\n",
       "      <th>threat</th>\n",
       "      <th>insult</th>\n",
       "      <th>identity_hate</th>\n",
       "      <th>sum_injurious</th>\n",
       "    </tr>\n",
       "  </thead>\n",
       "  <tbody>\n",
       "    <tr>\n",
       "      <th>0</th>\n",
       "      <td>Explanation\\nWhy the edits made under my usern...</td>\n",
       "      <td>0</td>\n",
       "      <td>0</td>\n",
       "      <td>0</td>\n",
       "      <td>0</td>\n",
       "      <td>0</td>\n",
       "      <td>0</td>\n",
       "      <td>0</td>\n",
       "    </tr>\n",
       "    <tr>\n",
       "      <th>1</th>\n",
       "      <td>D'aww! He matches this background colour I'm s...</td>\n",
       "      <td>0</td>\n",
       "      <td>0</td>\n",
       "      <td>0</td>\n",
       "      <td>0</td>\n",
       "      <td>0</td>\n",
       "      <td>0</td>\n",
       "      <td>0</td>\n",
       "    </tr>\n",
       "    <tr>\n",
       "      <th>2</th>\n",
       "      <td>Hey man, I'm really not trying to edit war. It...</td>\n",
       "      <td>0</td>\n",
       "      <td>0</td>\n",
       "      <td>0</td>\n",
       "      <td>0</td>\n",
       "      <td>0</td>\n",
       "      <td>0</td>\n",
       "      <td>0</td>\n",
       "    </tr>\n",
       "    <tr>\n",
       "      <th>3</th>\n",
       "      <td>\"\\nMore\\nI can't make any real suggestions on ...</td>\n",
       "      <td>0</td>\n",
       "      <td>0</td>\n",
       "      <td>0</td>\n",
       "      <td>0</td>\n",
       "      <td>0</td>\n",
       "      <td>0</td>\n",
       "      <td>0</td>\n",
       "    </tr>\n",
       "    <tr>\n",
       "      <th>4</th>\n",
       "      <td>You, sir, are my hero. Any chance you remember...</td>\n",
       "      <td>0</td>\n",
       "      <td>0</td>\n",
       "      <td>0</td>\n",
       "      <td>0</td>\n",
       "      <td>0</td>\n",
       "      <td>0</td>\n",
       "      <td>0</td>\n",
       "    </tr>\n",
       "  </tbody>\n",
       "</table>\n",
       "</div>"
      ],
      "text/plain": [
       "                                        comment_text  toxic  severe_toxic  \\\n",
       "0  Explanation\\nWhy the edits made under my usern...      0             0   \n",
       "1  D'aww! He matches this background colour I'm s...      0             0   \n",
       "2  Hey man, I'm really not trying to edit war. It...      0             0   \n",
       "3  \"\\nMore\\nI can't make any real suggestions on ...      0             0   \n",
       "4  You, sir, are my hero. Any chance you remember...      0             0   \n",
       "\n",
       "   obscene  threat  insult  identity_hate  sum_injurious  \n",
       "0        0       0       0              0              0  \n",
       "1        0       0       0              0              0  \n",
       "2        0       0       0              0              0  \n",
       "3        0       0       0              0              0  \n",
       "4        0       0       0              0              0  "
      ]
     },
     "execution_count": 44,
     "metadata": {},
     "output_type": "execute_result"
    }
   ],
   "source": [
    "df.head()"
   ]
  },
  {
   "cell_type": "markdown",
   "id": "4R8V9KQ8Gc-e",
   "metadata": {
    "id": "4R8V9KQ8Gc-e"
   },
   "source": [
    "This dataset consists of 159571 comments, each categorized into one or more of six toxicity categories: `toxic`, `severe_toxic`, `obscene`, `threat`, `insult`, and `identity_hate`. Additionally, it includes a derived variable named `sum_injurious`, calculated by summing the values of the category variables. From the latter variable, it is possible to define the `clean` variable to see how many comments are non-toxic:"
   ]
  },
  {
   "cell_type": "code",
   "execution_count": 45,
   "id": "Ss3Hre75JGAP",
   "metadata": {
    "colab": {
     "base_uri": "https://localhost:8080/",
     "height": 206
    },
    "executionInfo": {
     "elapsed": 26,
     "status": "ok",
     "timestamp": 1695221583536,
     "user": {
      "displayName": "Mattia Guglielmelli",
      "userId": "09921338730969322425"
     },
     "user_tz": -120
    },
    "id": "Ss3Hre75JGAP",
    "outputId": "09db4756-c88d-4f94-afe8-f0c9040d5e02"
   },
   "outputs": [
    {
     "data": {
      "text/html": [
       "<div>\n",
       "<style scoped>\n",
       "    .dataframe tbody tr th:only-of-type {\n",
       "        vertical-align: middle;\n",
       "    }\n",
       "\n",
       "    .dataframe tbody tr th {\n",
       "        vertical-align: top;\n",
       "    }\n",
       "\n",
       "    .dataframe thead th {\n",
       "        text-align: right;\n",
       "    }\n",
       "</style>\n",
       "<table border=\"1\" class=\"dataframe\">\n",
       "  <thead>\n",
       "    <tr style=\"text-align: right;\">\n",
       "      <th></th>\n",
       "      <th>comment_text</th>\n",
       "      <th>toxic</th>\n",
       "      <th>severe_toxic</th>\n",
       "      <th>obscene</th>\n",
       "      <th>threat</th>\n",
       "      <th>insult</th>\n",
       "      <th>identity_hate</th>\n",
       "      <th>clean</th>\n",
       "      <th>sum_injurious</th>\n",
       "    </tr>\n",
       "  </thead>\n",
       "  <tbody>\n",
       "    <tr>\n",
       "      <th>0</th>\n",
       "      <td>Explanation\\nWhy the edits made under my usern...</td>\n",
       "      <td>0</td>\n",
       "      <td>0</td>\n",
       "      <td>0</td>\n",
       "      <td>0</td>\n",
       "      <td>0</td>\n",
       "      <td>0</td>\n",
       "      <td>1</td>\n",
       "      <td>0</td>\n",
       "    </tr>\n",
       "    <tr>\n",
       "      <th>1</th>\n",
       "      <td>D'aww! He matches this background colour I'm s...</td>\n",
       "      <td>0</td>\n",
       "      <td>0</td>\n",
       "      <td>0</td>\n",
       "      <td>0</td>\n",
       "      <td>0</td>\n",
       "      <td>0</td>\n",
       "      <td>1</td>\n",
       "      <td>0</td>\n",
       "    </tr>\n",
       "    <tr>\n",
       "      <th>2</th>\n",
       "      <td>Hey man, I'm really not trying to edit war. It...</td>\n",
       "      <td>0</td>\n",
       "      <td>0</td>\n",
       "      <td>0</td>\n",
       "      <td>0</td>\n",
       "      <td>0</td>\n",
       "      <td>0</td>\n",
       "      <td>1</td>\n",
       "      <td>0</td>\n",
       "    </tr>\n",
       "    <tr>\n",
       "      <th>3</th>\n",
       "      <td>\"\\nMore\\nI can't make any real suggestions on ...</td>\n",
       "      <td>0</td>\n",
       "      <td>0</td>\n",
       "      <td>0</td>\n",
       "      <td>0</td>\n",
       "      <td>0</td>\n",
       "      <td>0</td>\n",
       "      <td>1</td>\n",
       "      <td>0</td>\n",
       "    </tr>\n",
       "    <tr>\n",
       "      <th>4</th>\n",
       "      <td>You, sir, are my hero. Any chance you remember...</td>\n",
       "      <td>0</td>\n",
       "      <td>0</td>\n",
       "      <td>0</td>\n",
       "      <td>0</td>\n",
       "      <td>0</td>\n",
       "      <td>0</td>\n",
       "      <td>1</td>\n",
       "      <td>0</td>\n",
       "    </tr>\n",
       "  </tbody>\n",
       "</table>\n",
       "</div>"
      ],
      "text/plain": [
       "                                        comment_text  toxic  severe_toxic  \\\n",
       "0  Explanation\\nWhy the edits made under my usern...      0             0   \n",
       "1  D'aww! He matches this background colour I'm s...      0             0   \n",
       "2  Hey man, I'm really not trying to edit war. It...      0             0   \n",
       "3  \"\\nMore\\nI can't make any real suggestions on ...      0             0   \n",
       "4  You, sir, are my hero. Any chance you remember...      0             0   \n",
       "\n",
       "   obscene  threat  insult  identity_hate  clean  sum_injurious  \n",
       "0        0       0       0              0      1              0  \n",
       "1        0       0       0              0      1              0  \n",
       "2        0       0       0              0      1              0  \n",
       "3        0       0       0              0      1              0  \n",
       "4        0       0       0              0      1              0  "
      ]
     },
     "execution_count": 45,
     "metadata": {},
     "output_type": "execute_result"
    }
   ],
   "source": [
    "df.insert(df.columns.get_loc(\"sum_injurious\"),\n",
    "          \"clean\",\n",
    "          df[\"sum_injurious\"].apply(lambda x: 1 if x==0 else 0))\n",
    "df.head()"
   ]
  },
  {
   "cell_type": "markdown",
   "id": "GCHoo8UlK6LJ",
   "metadata": {
    "id": "GCHoo8UlK6LJ"
   },
   "source": [
    "Let's see the number of comments in each category with a barplot:"
   ]
  },
  {
   "cell_type": "code",
   "execution_count": 46,
   "id": "d0I-krBoAEQO",
   "metadata": {
    "colab": {
     "base_uri": "https://localhost:8080/"
    },
    "executionInfo": {
     "elapsed": 25,
     "status": "ok",
     "timestamp": 1695221583537,
     "user": {
      "displayName": "Mattia Guglielmelli",
      "userId": "09921338730969322425"
     },
     "user_tz": -120
    },
    "id": "d0I-krBoAEQO",
    "outputId": "885e5140-bb8e-470d-d7d9-1be56957bbe8"
   },
   "outputs": [
    {
     "data": {
      "text/plain": [
       "clean            143346\n",
       "toxic             15294\n",
       "obscene            8449\n",
       "insult             7877\n",
       "severe_toxic       1595\n",
       "identity_hate      1405\n",
       "threat              478\n",
       "dtype: int64"
      ]
     },
     "execution_count": 46,
     "metadata": {},
     "output_type": "execute_result"
    }
   ],
   "source": [
    "df.iloc[:,1:-1].sum().sort_values(ascending=False)"
   ]
  },
  {
   "cell_type": "code",
   "execution_count": 47,
   "id": "6R9ZtDIDpigs",
   "metadata": {
    "colab": {
     "base_uri": "https://localhost:8080/",
     "height": 771
    },
    "executionInfo": {
     "elapsed": 816,
     "status": "ok",
     "timestamp": 1695221584332,
     "user": {
      "displayName": "Mattia Guglielmelli",
      "userId": "09921338730969322425"
     },
     "user_tz": -120
    },
    "id": "6R9ZtDIDpigs",
    "outputId": "9ffc7e2c-852b-4a64-cb68-202e1051c150"
   },
   "outputs": [
    {
     "name": "stderr",
     "output_type": "stream",
     "text": [
      "C:\\Users\\gugli\\Desktop\\venv\\toxic_venv\\lib\\site-packages\\seaborn\\_oldcore.py:1498: FutureWarning: is_categorical_dtype is deprecated and will be removed in a future version. Use isinstance(dtype, CategoricalDtype) instead\n",
      "  if pd.api.types.is_categorical_dtype(vector):\n",
      "C:\\Users\\gugli\\Desktop\\venv\\toxic_venv\\lib\\site-packages\\seaborn\\_oldcore.py:1498: FutureWarning: is_categorical_dtype is deprecated and will be removed in a future version. Use isinstance(dtype, CategoricalDtype) instead\n",
      "  if pd.api.types.is_categorical_dtype(vector):\n",
      "C:\\Users\\gugli\\Desktop\\venv\\toxic_venv\\lib\\site-packages\\seaborn\\_oldcore.py:1498: FutureWarning: is_categorical_dtype is deprecated and will be removed in a future version. Use isinstance(dtype, CategoricalDtype) instead\n",
      "  if pd.api.types.is_categorical_dtype(vector):\n"
     ]
    },
    {
     "data": {
      "image/png": "[encoded data removed]",
      "text/plain": [
       "<Figure size 1200x700 with 1 Axes>"
      ]
     },
     "metadata": {},
     "output_type": "display_data"
    }
   ],
   "source": [
    "import matplotlib.pyplot as plt\n",
    "import seaborn as sns\n",
    "\n",
    "categories = df.iloc[:,1:-1].sum().sort_values(ascending=False).index\n",
    "counts = df.iloc[:,1:-1].sum().sort_values(ascending=False).values\n",
    "sns.set(font_scale = 2)\n",
    "plt.figure(figsize=(12,7))\n",
    "ax = sns.barplot(x = categories,\n",
    "                 y = counts)\n",
    "plt.title(\"Comments in each category\", fontsize=24)\n",
    "plt.ylabel('Number of comments', fontsize=18)\n",
    "plt.xlabel('Comment Type', fontsize=18)\n",
    "rects = ax.patches\n",
    "labels = counts\n",
    "for rect, label in zip(rects, labels):\n",
    "    height = rect.get_height()\n",
    "    ax.text(rect.get_x() + rect.get_width()/2, height + 5,\n",
    "            label, fontsize=18,\n",
    "            ha='center', va='bottom')\n",
    "plt.xticks(rotation=45, ha='center', fontsize=16)\n",
    "plt.yticks(fontsize=14)\n",
    "plt.show()"
   ]
  },
  {
   "cell_type": "code",
   "execution_count": 48,
   "id": "L-T9incYDQjS",
   "metadata": {
    "colab": {
     "base_uri": "https://localhost:8080/",
     "height": 673
    },
    "executionInfo": {
     "elapsed": 15,
     "status": "ok",
     "timestamp": 1695221584333,
     "user": {
      "displayName": "Mattia Guglielmelli",
      "userId": "09921338730969322425"
     },
     "user_tz": -120
    },
    "id": "L-T9incYDQjS",
    "outputId": "e6fa3666-6e06-4e0f-a313-516544263ca9"
   },
   "outputs": [
    {
     "name": "stderr",
     "output_type": "stream",
     "text": [
      "C:\\Users\\gugli\\Desktop\\venv\\toxic_venv\\lib\\site-packages\\seaborn\\_oldcore.py:1498: FutureWarning: is_categorical_dtype is deprecated and will be removed in a future version. Use isinstance(dtype, CategoricalDtype) instead\n",
      "  if pd.api.types.is_categorical_dtype(vector):\n",
      "C:\\Users\\gugli\\Desktop\\venv\\toxic_venv\\lib\\site-packages\\seaborn\\_oldcore.py:1498: FutureWarning: is_categorical_dtype is deprecated and will be removed in a future version. Use isinstance(dtype, CategoricalDtype) instead\n",
      "  if pd.api.types.is_categorical_dtype(vector):\n",
      "C:\\Users\\gugli\\Desktop\\venv\\toxic_venv\\lib\\site-packages\\seaborn\\_oldcore.py:1498: FutureWarning: is_categorical_dtype is deprecated and will be removed in a future version. Use isinstance(dtype, CategoricalDtype) instead\n",
      "  if pd.api.types.is_categorical_dtype(vector):\n"
     ]
    },
    {
     "data": {
      "image/png": "[encoded data removed]",
      "text/plain": [
       "<Figure size 1200x700 with 1 Axes>"
      ]
     },
     "metadata": {},
     "output_type": "display_data"
    }
   ],
   "source": [
    "import matplotlib.pyplot as plt\n",
    "import seaborn as sns\n",
    "\n",
    "categories = df[\"sum_injurious\"].value_counts().index\n",
    "counts = df[\"sum_injurious\"].value_counts().values\n",
    "sns.set(font_scale = 2)\n",
    "plt.figure(figsize=(12,7))\n",
    "ax = sns.barplot(x = categories,\n",
    "                 y = counts)\n",
    "plt.title(\"Comments for each number of labels\", fontsize=24)\n",
    "plt.ylabel(\"Number of comments\", fontsize=18)\n",
    "plt.xlabel(\"Number of labels\", fontsize=18)\n",
    "rects = ax.patches\n",
    "labels = counts\n",
    "for rect, label in zip(rects, labels):\n",
    "    height = rect.get_height()\n",
    "    ax.text(rect.get_x() + rect.get_width()/2, height + 5,\n",
    "            label, fontsize=18,\n",
    "            ha='center', va='bottom')\n",
    "# NO ROTATION IN QUESTO CASO --> mettere parametro xrotation, che di default è True\n",
    "plt.xticks(ha='center', fontsize=16)\n",
    "plt.yticks(fontsize=14)\n",
    "plt.show()"
   ]
  },
  {
   "cell_type": "markdown",
   "id": "sKHsekyidnCc",
   "metadata": {
    "id": "sKHsekyidnCc"
   },
   "source": [
    "Guardare il dataset per capire se si hanno abbastanza esempi di ogni classe (anche quella non dannosa, quindi tutti 0 ovviamente). In questo modo, scegliere eventualmente la giusta loss function, o magari provarne 2 tipo, una normale e una in cui si pesano diversamente i pesi oppure la `CategoricalFocalCrossentropy`:"
   ]
  },
  {
   "cell_type": "code",
   "execution_count": 49,
   "id": "6a6421ed",
   "metadata": {
    "executionInfo": {
     "elapsed": 15,
     "status": "ok",
     "timestamp": 1695221584334,
     "user": {
      "displayName": "Mattia Guglielmelli",
      "userId": "09921338730969322425"
     },
     "user_tz": -120
    },
    "id": "6a6421ed"
   },
   "outputs": [],
   "source": [
    "from sklearn.model_selection import train_test_split"
   ]
  },
  {
   "cell_type": "markdown",
   "id": "dAt05BKAk6Yn",
   "metadata": {
    "id": "dAt05BKAk6Yn"
   },
   "source": [
    "STRATIFICARE SECONDO TUTTE LE CLASSI (NON SO SE RIESCO)."
   ]
  },
  {
   "cell_type": "markdown",
   "id": "-vGQYhw9W4Yg",
   "metadata": {
    "id": "-vGQYhw9W4Yg"
   },
   "source": [
    "## 1. Pre-processing"
   ]
  },
  {
   "cell_type": "markdown",
   "id": "Itmu6PLnqTJc",
   "metadata": {
    "id": "Itmu6PLnqTJc"
   },
   "source": [
    "We first convert the comments to lower-case and then use custom made functions to remove html-tags, punctuation and non-alphabetic characters from the comments."
   ]
  },
  {
   "cell_type": "markdown",
   "id": "Z0HkCNz8qiO_",
   "metadata": {
    "id": "Z0HkCNz8qiO_"
   },
   "source": [
    "Next we remove all the stop-words present in the comments using the default set of stop-words that can be downloaded from NLTK library. We also add few stop-words to the standard list.\n",
    "Stop words are basically a set of commonly used words in any language, not just English. The reason why stop words are critical to many applications is that, if we remove the words that are very commonly used in a given language, we can focus on the important words instead."
   ]
  },
  {
   "cell_type": "code",
   "execution_count": 50,
   "id": "ohFh92uvzmSP",
   "metadata": {
    "colab": {
     "base_uri": "https://localhost:8080/"
    },
    "executionInfo": {
     "elapsed": 480,
     "status": "ok",
     "timestamp": 1695221638913,
     "user": {
      "displayName": "Mattia Guglielmelli",
      "userId": "09921338730969322425"
     },
     "user_tz": -120
    },
    "id": "ohFh92uvzmSP",
    "outputId": "19fbf38d-4896-45da-9808-0fe6a978f22e"
   },
   "outputs": [
    {
     "name": "stderr",
     "output_type": "stream",
     "text": [
      "[nltk_data] Downloading package stopwords to\n",
      "[nltk_data]     C:\\Users\\gugli\\AppData\\Roaming\\nltk_data...\n",
      "[nltk_data]   Package stopwords is already up-to-date!\n"
     ]
    }
   ],
   "source": [
    "import re\n",
    "import nltk\n",
    "from nltk.corpus import stopwords\n",
    "from nltk.stem import SnowballStemmer\n",
    "\n",
    "nltk.download('stopwords')\n",
    "\n",
    "def stemming(sentence):\n",
    "    \"\"\"\n",
    "    Apply stemming to a sentence.\n",
    "    This function uses the Snowball Stemmer for English to perform stemming\n",
    "    on each word in a given sentence. Stemming reduces words to their\n",
    "    root or base form.\n",
    "\n",
    "    Parameters:\n",
    "    -----------\n",
    "    sentence : str\n",
    "      The input sentence to be stemmed.\n",
    "\n",
    "    Returns:\n",
    "    --------\n",
    "    str\n",
    "      The stemmed sentence where each word has been reduced to its root form.\n",
    "\n",
    "    Example:\n",
    "    --------\n",
    "    >>> sentence = \"Running quickly in the park\"\n",
    "    >>> stemming(sentence)\n",
    "    'run quick in the park'\n",
    "    \"\"\"\n",
    "    stemmer = SnowballStemmer(\"english\")\n",
    "    stem_sentence = \"\"\n",
    "    for word in sentence.split():\n",
    "        stem = stemmer.stem(word)\n",
    "        stem_sentence += stem\n",
    "        stem_sentence += \" \"\n",
    "    stem_sentence = stem_sentence.strip()\n",
    "    return stem_sentence\n",
    "\n",
    "def clean_text(text):\n",
    "    \"\"\"\n",
    "    Clean and preprocess text data.\n",
    "\n",
    "    This function takes a text input and performs the following cleaning steps:\n",
    "    1. Converts text to lowercase.\n",
    "    2. Removes words containing only one letter or one letter followed/preceded by\n",
    "      one or more punctuation characters, plus tabs and line breaks,\n",
    "      minus the ' character.\n",
    "    3. Removes common English stopwords.\n",
    "\n",
    "    Parameters:\n",
    "    ----------\n",
    "    text : str\n",
    "      The input text to be cleaned.\n",
    "\n",
    "    Returns:\n",
    "    -------\n",
    "    str\n",
    "      The cleaned and preprocessed text, returned as a\n",
    "      space-separated string of words.\n",
    "    \"\"\"\n",
    "    swords = set(stopwords.words(\"english\"))\n",
    "    re_stop_words = re.compile(r\"\\b(\" + \"|\".join(swords) + r\")\\b\", re.I)\n",
    "    regex = r'^[a-z]{1}[!\"#$%&()*+,-./:;<=>?@\\\\^_`{|}~\\t\\n]*$|'+\\\n",
    "          r'^[!\"#$%&()*+,-./:;<=>?@\\\\^_`{|}~\\t\\n]*[a-z]{1}$'\n",
    "    text = text.lower()\n",
    "    text = \" \".join(word for word in text.split() if not re.match(regex, word))\n",
    "    text = \" \".join(word for word in text.split() if not re.search(re_stop_words, word))\n",
    "    text = stemming(text)\n",
    "    return text\n",
    "\n",
    "def text_preprocessing(data, column_name=\"comment_text\"):\n",
    "    \"\"\"\n",
    "    Preprocess text data in a DataFrame column.\n",
    "\n",
    "    This function takes a pandas DataFrame and preprocesses the text data\n",
    "    in a specified column by applying the `clean_text` function to each element.\n",
    "\n",
    "    Parameters:\n",
    "    ----------\n",
    "    data : pandas.DataFrame\n",
    "      The DataFrame containing the text data to be preprocessed.\n",
    "    column_name : str, optional\n",
    "      The name of the column containing the text data to be preprocessed.\n",
    "      Default is \"comment_text\".\n",
    "\n",
    "    Returns:\n",
    "    -------\n",
    "    pandas.DataFrame\n",
    "      The DataFrame with the specified column's text data\n",
    "      preprocessed using the `clean_text` function.\n",
    "    \"\"\"\n",
    "    data[column_name] = data[column_name].apply(clean_text)\n",
    "    return data"
   ]
  },
  {
   "cell_type": "code",
   "execution_count": 51,
   "id": "Xt-SJfkCFR_g",
   "metadata": {
    "colab": {
     "base_uri": "https://localhost:8080/",
     "height": 356
    },
    "executionInfo": {
     "elapsed": 119906,
     "status": "error",
     "timestamp": 1695221762819,
     "user": {
      "displayName": "Mattia Guglielmelli",
      "userId": "09921338730969322425"
     },
     "user_tz": -120
    },
    "id": "Xt-SJfkCFR_g",
    "outputId": "851a8bd7-a270-4271-af03-d9d8306df9b4"
   },
   "outputs": [],
   "source": [
    "preprocessed_df = text_preprocessing(df)"
   ]
  },
  {
   "cell_type": "markdown",
   "id": "91dad6bf",
   "metadata": {},
   "source": [
    "To avoid having to process the comments every time, it is decided to save the preprocessed DataFrame to a Parquet file:"
   ]
  },
  {
   "cell_type": "code",
   "execution_count": 52,
   "id": "c9a59f16",
   "metadata": {},
   "outputs": [],
   "source": [
    "preprocessed_df.to_parquet(\"preprocessed_data.parquet\", index=False)"
   ]
  },
  {
   "cell_type": "markdown",
   "id": "20e0b3f5",
   "metadata": {},
   "source": [
    "Once this is done, the content of that file can be loaded by simply using the `read_parquet()` function:"
   ]
  },
  {
   "cell_type": "code",
   "execution_count": 53,
   "id": "c2346911",
   "metadata": {},
   "outputs": [],
   "source": [
    "preprocessed_df = pd.read_parquet(\"preprocessed_data.parquet\")"
   ]
  },
  {
   "cell_type": "code",
   "execution_count": 54,
   "id": "1b19f5ae",
   "metadata": {},
   "outputs": [],
   "source": [
    "X = preprocessed_df[\"comment_text\"].values\n",
    "y = preprocessed_df.drop([\"comment_text\",\"sum_injurious\", \"clean\"], axis=1).values"
   ]
  },
  {
   "cell_type": "code",
   "execution_count": 60,
   "id": "97eba9b1",
   "metadata": {},
   "outputs": [],
   "source": [
    "def train_test_val_split(X, y, train_size, val_size, random_state=None):\n",
    "    test_size_2 = val_size/train_size\n",
    "    X_train, X_test, y_train, y_test = \\\n",
    "        train_test_split(X, y, train_size=train_size, random_state=random_state)\n",
    "    X_train, X_val, y_train, y_val = \\\n",
    "        train_test_split(X_train, y_train, test_size=test_size_2, random_state=random_state)\n",
    "    return (X_train, X_val, X_test, y_train, y_val, y_test)"
   ]
  },
  {
   "cell_type": "code",
   "execution_count": 61,
   "id": "c1ba4aff",
   "metadata": {},
   "outputs": [],
   "source": [
    "X_train, X_val, X_test, y_train, y_val, y_test = \\\n",
    "    train_test_val_split(X, y, 0.8, 0.2)"
   ]
  },
  {
   "cell_type": "code",
   "execution_count": 62,
   "id": "e7d7522c",
   "metadata": {},
   "outputs": [
    {
     "data": {
      "text/plain": [
       "((95742,), (31915,), (31914,))"
      ]
     },
     "execution_count": 62,
     "metadata": {},
     "output_type": "execute_result"
    }
   ],
   "source": [
    "X_train.shape, X_test.shape, X_val.shape"
   ]
  },
  {
   "cell_type": "code",
   "execution_count": 63,
   "id": "f531342e",
   "metadata": {},
   "outputs": [
    {
     "data": {
      "text/plain": [
       "((95742, 6), (31915, 6), (31914, 6))"
      ]
     },
     "execution_count": 63,
     "metadata": {},
     "output_type": "execute_result"
    }
   ],
   "source": [
    "y_train.shape, y_test.shape, y_val.shape"
   ]
  },
  {
   "cell_type": "code",
   "execution_count": 64,
   "id": "0e1123d5",
   "metadata": {},
   "outputs": [
    {
     "data": {
      "text/plain": [
       "0.19999874663942696"
      ]
     },
     "execution_count": 64,
     "metadata": {},
     "output_type": "execute_result"
    }
   ],
   "source": [
    "X_val.shape[0]/X.shape[0]"
   ]
  },
  {
   "cell_type": "code",
   "execution_count": 66,
   "id": "oa6tDMMMHvAL",
   "metadata": {
    "executionInfo": {
     "elapsed": 32,
     "status": "aborted",
     "timestamp": 1695221598116,
     "user": {
      "displayName": "Mattia Guglielmelli",
      "userId": "09921338730969322425"
     },
     "user_tz": -120
    },
    "id": "oa6tDMMMHvAL"
   },
   "outputs": [
    {
     "data": {
      "text/plain": [
       "132665"
      ]
     },
     "execution_count": 66,
     "metadata": {},
     "output_type": "execute_result"
    }
   ],
   "source": [
    "from keras.preprocessing.text import Tokenizer\n",
    "from keras.preprocessing.sequence import pad_sequences\n",
    "\n",
    "tokenizer = Tokenizer(num_words = 50000)\n",
    "tokenizer.fit_on_texts(X_train)\n",
    "len(tokenizer.word_index)"
   ]
  },
  {
   "cell_type": "code",
   "execution_count": 67,
   "id": "-HAgw5F48TmA",
   "metadata": {
    "executionInfo": {
     "elapsed": 32,
     "status": "aborted",
     "timestamp": 1695221598117,
     "user": {
      "displayName": "Mattia Guglielmelli",
      "userId": "09921338730969322425"
     },
     "user_tz": -120
    },
    "id": "-HAgw5F48TmA"
   },
   "outputs": [],
   "source": [
    "train_sequences= tokenizer.texts_to_sequences(X_train)\n",
    "val_sequences= tokenizer.texts_to_sequences(X_val)\n",
    "test_sequences= tokenizer.texts_to_sequences(X_test)\n",
    "maxlen = len(max(train_sequences,key=len))"
   ]
  },
  {
   "cell_type": "code",
   "execution_count": 68,
   "id": "wPwr92oBJT92",
   "metadata": {
    "executionInfo": {
     "elapsed": 32,
     "status": "aborted",
     "timestamp": 1695221598117,
     "user": {
      "displayName": "Mattia Guglielmelli",
      "userId": "09921338730969322425"
     },
     "user_tz": -120
    },
    "id": "wPwr92oBJT92"
   },
   "outputs": [
    {
     "data": {
      "text/plain": [
       "132666"
      ]
     },
     "execution_count": 68,
     "metadata": {},
     "output_type": "execute_result"
    }
   ],
   "source": [
    "vocab_size = len(tokenizer.word_index)+1\n",
    "vocab_size"
   ]
  },
  {
   "cell_type": "code",
   "execution_count": 69,
   "id": "0f1c6239",
   "metadata": {},
   "outputs": [],
   "source": [
    "padded_train_sequences = pad_sequences(train_sequences, maxlen=maxlen)\n",
    "padded_val_sequences = pad_sequences(val_sequences, maxlen=maxlen)\n",
    "padded_test_sequences = pad_sequences(test_sequences, maxlen=maxlen)"
   ]
  },
  {
   "cell_type": "code",
   "execution_count": null,
   "id": "iaEn-QeaX4IW",
   "metadata": {
    "id": "iaEn-QeaX4IW"
   },
   "outputs": [],
   "source": [
    "vocab_size = len(tokenizer.word_index)+1\n",
    "maxlen = len(max(train_sequences,key=len))\n",
    "vocab_size, maxlen"
   ]
  },
  {
   "cell_type": "code",
   "execution_count": null,
   "id": "aPgpXiNsX-bq",
   "metadata": {
    "id": "aPgpXiNsX-bq"
   },
   "outputs": [],
   "source": [
    "padded_train_sequences = pad_sequences(train_sequences, maxlen=maxlen)\n",
    "padded_test_sequences = pad_sequences(test_sequences, maxlen=maxlen)"
   ]
  },
  {
   "cell_type": "markdown",
   "id": "mT8w7M5jYZId",
   "metadata": {
    "id": "mT8w7M5jYZId"
   },
   "source": [
    "## 2. Model building"
   ]
  },
  {
   "cell_type": "code",
   "execution_count": null,
   "id": "_vArg3H7ZACa",
   "metadata": {
    "id": "_vArg3H7ZACa"
   },
   "outputs": [],
   "source": [
    "from keras.models import Sequential\n",
    "from keras.layers import Embedding, LSTM, GRU, Dense"
   ]
  },
  {
   "cell_type": "markdown",
   "id": "FGSW91jkYfvC",
   "metadata": {
    "id": "FGSW91jkYfvC"
   },
   "source": [
    "### 2.1 Simple RNN model"
   ]
  },
  {
   "cell_type": "markdown",
   "id": "nefAoT00Yl6H",
   "metadata": {
    "id": "nefAoT00Yl6H"
   },
   "source": [
    "### 2.2 LSTM Model"
   ]
  },
  {
   "cell_type": "code",
   "execution_count": null,
   "id": "C2nRywueY77b",
   "metadata": {
    "id": "C2nRywueY77b"
   },
   "outputs": [],
   "source": [
    "model_LSTM = Sequential()\n",
    "# 128 è l'output di embedding:\n",
    "model_LSTM.add(Embedding(vocab_size, 128, input_length=maxlen))\n",
    "model_LSTM.add(LSTM(64,activation='tanh'))\n",
    "# sempre un unico neurone, perché la classificazione è binaria:\n",
    "model_LSTM.add(Dense(6,activation='sigmoid'))\n",
    "model_LSTM.summary()"
   ]
  },
  {
   "cell_type": "markdown",
   "id": "5NWneij3ZroA",
   "metadata": {
    "id": "5NWneij3ZroA"
   },
   "source": [
    "**NOTA**: Si può anche utilizzare un dropout ricorrente su ogni cella interna."
   ]
  },
  {
   "cell_type": "code",
   "execution_count": null,
   "id": "BMr11V6vZvHi",
   "metadata": {
    "id": "BMr11V6vZvHi"
   },
   "outputs": [],
   "source": [
    "model_LSTM.compile(optimizer='rmsprop',loss='binary_crossentropy', metrics = 'accuracy')"
   ]
  },
  {
   "cell_type": "code",
   "execution_count": null,
   "id": "nkw07CXZZ0D0",
   "metadata": {
    "id": "nkw07CXZZ0D0"
   },
   "outputs": [],
   "source": [
    "model_LSTM.fit(padded_train_sequences,\n",
    "               y_train,\n",
    "               validation_split=.2,\n",
    "               epochs= 5,\n",
    "               batch_size=256)"
   ]
  },
  {
   "cell_type": "markdown",
   "id": "c_WmRu4yYqzX",
   "metadata": {
    "id": "c_WmRu4yYqzX"
   },
   "source": [
    "### 2.3 GRU Model"
   ]
  },
  {
   "cell_type": "code",
   "execution_count": null,
   "id": "ZbsjGp09Y02e",
   "metadata": {
    "id": "ZbsjGp09Y02e"
   },
   "outputs": [],
   "source": [
    "model_GRU = Sequential()\n",
    "model_GRU.add(Embedding(vocab_size, 128, input_length=maxlen))\n",
    "model_GRU.add(GRU(64,activation='tanh'))\n",
    "model_GRU.add(Dense(1,activation='sigmoid'))\n",
    "model_GRU.summary()"
   ]
  },
  {
   "cell_type": "code",
   "execution_count": null,
   "id": "URNBQy6qcnuM",
   "metadata": {
    "id": "URNBQy6qcnuM"
   },
   "outputs": [],
   "source": [
    "model_GRU.compile(optimizer='rmsprop',\n",
    "                  loss = 'binary_crossentropy',\n",
    "                  metrics = 'accuracy')"
   ]
  },
  {
   "cell_type": "markdown",
   "id": "kgNDRlj0cw9p",
   "metadata": {
    "id": "kgNDRlj0cw9p"
   },
   "source": [
    "#### 2.3.1 Hyperparameter Tuning"
   ]
  },
  {
   "cell_type": "code",
   "execution_count": null,
   "id": "gKcxeuAucqwM",
   "metadata": {
    "id": "gKcxeuAucqwM"
   },
   "outputs": [],
   "source": [
    "model_GRU.fit(padded_train_sequences, y_train, validation_split = .2, epochs = 5, batch_size=256)"
   ]
  }
 ],
 "metadata": {
  "colab": {
   "provenance": [
    {
     "file_id": "1yQs0kHflfw5MjGybN-NYJ36Oiz7Roo5V",
     "timestamp": 1695307446353
    },
    {
     "file_id": "https://github.com/ProfAI/deep-learning-e-reti-neurali-artificiali/blob/main/Progetto%20Finale/Progetto%20Toxic%20Comments%20Filter.ipynb",
     "timestamp": 1694353515873
    }
   ]
  },
  "kernelspec": {
   "display_name": "toxic_kernel",
   "language": "python",
   "name": "toxic_kernel"
  },
  "language_info": {
   "codemirror_mode": {
    "name": "ipython",
    "version": 3
   },
   "file_extension": ".py",
   "mimetype": "text/x-python",
   "name": "python",
   "nbconvert_exporter": "python",
   "pygments_lexer": "ipython3",
   "version": "3.9.0"
  }
 },
 "nbformat": 4,
 "nbformat_minor": 5
}
